{
 "cells": [
  {
   "cell_type": "code",
   "execution_count": 15,
   "metadata": {
    "_cell_guid": "b1076dfc-b9ad-4769-8c92-a6c4dae69d19",
    "_uuid": "8f2839f25d086af736a60e9eeb907d3b93b6e0e5",
    "execution": {
     "iopub.execute_input": "2023-05-01T09:48:24.777154Z",
     "iopub.status.busy": "2023-05-01T09:48:24.776442Z",
     "iopub.status.idle": "2023-05-01T09:48:24.781964Z",
     "shell.execute_reply": "2023-05-01T09:48:24.781369Z",
     "shell.execute_reply.started": "2023-05-01T09:48:24.777093Z"
    }
   },
   "outputs": [],
   "source": [
    "import numpy as np               \n",
    "import pandas as pd               \n",
    "import seaborn as sns            \n",
    "import matplotlib.pyplot as plt   \n",
    "import scipy.stats                \n",
    "\n",
    "from scipy.cluster.hierarchy import dendrogram, linkage\n",
    "\n",
    "import os"
   ]
  },
  {
   "cell_type": "code",
   "execution_count": 16,
   "metadata": {
    "_cell_guid": "79c7e3d0-c299-4dcb-8224-4455121ee9b0",
    "_uuid": "d629ff2d2480ee46fbb7e2d37f6b5fab8052498a",
    "execution": {
     "iopub.execute_input": "2023-05-01T09:48:24.783307Z",
     "iopub.status.busy": "2023-05-01T09:48:24.783080Z",
     "iopub.status.idle": "2023-05-01T09:48:24.815758Z",
     "shell.execute_reply": "2023-05-01T09:48:24.815213Z",
     "shell.execute_reply.started": "2023-05-01T09:48:24.783267Z"
    }
   },
   "outputs": [
    {
     "name": "stdout",
     "output_type": "stream",
     "text": [
      "   age  sex  cp  trestbps  chol   ...    oldpeak  slope  ca  thal  target\n",
      "0   63    1   3       145   233   ...        2.3      0   0     1       1\n",
      "1   37    1   2       130   250   ...        3.5      0   0     2       1\n",
      "2   41    0   1       130   204   ...        1.4      2   0     2       1\n",
      "3   56    1   1       120   236   ...        0.8      2   0     2       1\n",
      "4   57    0   0       120   354   ...        0.6      2   0     2       1\n",
      "\n",
      "[5 rows x 14 columns]\n",
      "(303, 14)\n"
     ]
    }
   ],
   "source": [
    "df = pd.read_csv(\"../input/heart.csv\")\n",
    "\n",
    "print(df.head())\n",
    "print(df.shape)"
   ]
  },
  {
   "cell_type": "code",
   "execution_count": 17,
   "metadata": {
    "_uuid": "6421bea3096a2803eff8780146d52abc86276dc9",
    "execution": {
     "iopub.execute_input": "2023-05-01T09:48:24.816843Z",
     "iopub.status.busy": "2023-05-01T09:48:24.816674Z",
     "iopub.status.idle": "2023-05-01T09:48:24.916833Z",
     "shell.execute_reply": "2023-05-01T09:48:24.916246Z",
     "shell.execute_reply.started": "2023-05-01T09:48:24.816815Z"
    }
   },
   "outputs": [
    {
     "name": "stderr",
     "output_type": "stream",
     "text": [
      "/opt/conda/lib/python3.6/site-packages/sklearn/preprocessing/data.py:625: DataConversionWarning: Data with input dtype uint8, int64, float64 were all converted to float64 by StandardScaler.\n",
      "  return self.partial_fit(X, y)\n",
      "/opt/conda/lib/python3.6/site-packages/sklearn/base.py:462: DataConversionWarning: Data with input dtype uint8, int64, float64 were all converted to float64 by StandardScaler.\n",
      "  return self.fit(X, **fit_params).transform(X)\n"
     ]
    },
    {
     "data": {
      "text/html": [
       "<div>\n",
       "<style scoped>\n",
       "    .dataframe tbody tr th:only-of-type {\n",
       "        vertical-align: middle;\n",
       "    }\n",
       "\n",
       "    .dataframe tbody tr th {\n",
       "        vertical-align: top;\n",
       "    }\n",
       "\n",
       "    .dataframe thead th {\n",
       "        text-align: right;\n",
       "    }\n",
       "</style>\n",
       "<table border=\"1\" class=\"dataframe\">\n",
       "  <thead>\n",
       "    <tr style=\"text-align: right;\">\n",
       "      <th></th>\n",
       "      <th>age</th>\n",
       "      <th>trestbps</th>\n",
       "      <th>chol</th>\n",
       "      <th>thalach</th>\n",
       "      <th>oldpeak</th>\n",
       "      <th>ca</th>\n",
       "      <th>sex_1</th>\n",
       "      <th>cp_1</th>\n",
       "      <th>cp_2</th>\n",
       "      <th>cp_3</th>\n",
       "      <th>fbs_1</th>\n",
       "      <th>restecg_1</th>\n",
       "      <th>restecg_2</th>\n",
       "      <th>exang_1</th>\n",
       "      <th>slope_1</th>\n",
       "      <th>slope_2</th>\n",
       "      <th>thal_1</th>\n",
       "      <th>thal_2</th>\n",
       "      <th>thal_3</th>\n",
       "      <th>target_1</th>\n",
       "    </tr>\n",
       "  </thead>\n",
       "  <tbody>\n",
       "    <tr>\n",
       "      <th>0</th>\n",
       "      <td>0.952197</td>\n",
       "      <td>0.763956</td>\n",
       "      <td>-0.256334</td>\n",
       "      <td>0.015443</td>\n",
       "      <td>1.087338</td>\n",
       "      <td>-0.714429</td>\n",
       "      <td>0.681005</td>\n",
       "      <td>-0.444554</td>\n",
       "      <td>-0.634648</td>\n",
       "      <td>3.489114</td>\n",
       "      <td>2.394438</td>\n",
       "      <td>-1.003306</td>\n",
       "      <td>-0.115663</td>\n",
       "      <td>-0.696631</td>\n",
       "      <td>-0.926766</td>\n",
       "      <td>-0.939142</td>\n",
       "      <td>3.979112</td>\n",
       "      <td>-1.100763</td>\n",
       "      <td>-0.793116</td>\n",
       "      <td>0.914529</td>\n",
       "    </tr>\n",
       "    <tr>\n",
       "      <th>1</th>\n",
       "      <td>-1.915313</td>\n",
       "      <td>-0.092738</td>\n",
       "      <td>0.072199</td>\n",
       "      <td>1.633471</td>\n",
       "      <td>2.122573</td>\n",
       "      <td>-0.714429</td>\n",
       "      <td>0.681005</td>\n",
       "      <td>-0.444554</td>\n",
       "      <td>1.575677</td>\n",
       "      <td>-0.286606</td>\n",
       "      <td>-0.417635</td>\n",
       "      <td>0.996705</td>\n",
       "      <td>-0.115663</td>\n",
       "      <td>-0.696631</td>\n",
       "      <td>-0.926766</td>\n",
       "      <td>-0.939142</td>\n",
       "      <td>-0.251312</td>\n",
       "      <td>0.908461</td>\n",
       "      <td>-0.793116</td>\n",
       "      <td>0.914529</td>\n",
       "    </tr>\n",
       "    <tr>\n",
       "      <th>2</th>\n",
       "      <td>-1.474158</td>\n",
       "      <td>-0.092738</td>\n",
       "      <td>-0.816773</td>\n",
       "      <td>0.977514</td>\n",
       "      <td>0.310912</td>\n",
       "      <td>-0.714429</td>\n",
       "      <td>-1.468418</td>\n",
       "      <td>2.249444</td>\n",
       "      <td>-0.634648</td>\n",
       "      <td>-0.286606</td>\n",
       "      <td>-0.417635</td>\n",
       "      <td>-1.003306</td>\n",
       "      <td>-0.115663</td>\n",
       "      <td>-0.696631</td>\n",
       "      <td>-0.926766</td>\n",
       "      <td>1.064802</td>\n",
       "      <td>-0.251312</td>\n",
       "      <td>0.908461</td>\n",
       "      <td>-0.793116</td>\n",
       "      <td>0.914529</td>\n",
       "    </tr>\n",
       "    <tr>\n",
       "      <th>3</th>\n",
       "      <td>0.180175</td>\n",
       "      <td>-0.663867</td>\n",
       "      <td>-0.198357</td>\n",
       "      <td>1.239897</td>\n",
       "      <td>-0.206705</td>\n",
       "      <td>-0.714429</td>\n",
       "      <td>0.681005</td>\n",
       "      <td>2.249444</td>\n",
       "      <td>-0.634648</td>\n",
       "      <td>-0.286606</td>\n",
       "      <td>-0.417635</td>\n",
       "      <td>0.996705</td>\n",
       "      <td>-0.115663</td>\n",
       "      <td>-0.696631</td>\n",
       "      <td>-0.926766</td>\n",
       "      <td>1.064802</td>\n",
       "      <td>-0.251312</td>\n",
       "      <td>0.908461</td>\n",
       "      <td>-0.793116</td>\n",
       "      <td>0.914529</td>\n",
       "    </tr>\n",
       "    <tr>\n",
       "      <th>4</th>\n",
       "      <td>0.290464</td>\n",
       "      <td>-0.663867</td>\n",
       "      <td>2.082050</td>\n",
       "      <td>0.583939</td>\n",
       "      <td>-0.379244</td>\n",
       "      <td>-0.714429</td>\n",
       "      <td>-1.468418</td>\n",
       "      <td>-0.444554</td>\n",
       "      <td>-0.634648</td>\n",
       "      <td>-0.286606</td>\n",
       "      <td>-0.417635</td>\n",
       "      <td>0.996705</td>\n",
       "      <td>-0.115663</td>\n",
       "      <td>1.435481</td>\n",
       "      <td>-0.926766</td>\n",
       "      <td>1.064802</td>\n",
       "      <td>-0.251312</td>\n",
       "      <td>0.908461</td>\n",
       "      <td>-0.793116</td>\n",
       "      <td>0.914529</td>\n",
       "    </tr>\n",
       "  </tbody>\n",
       "</table>\n",
       "</div>"
      ],
      "text/plain": [
       "        age  trestbps      chol    ...       thal_2    thal_3  target_1\n",
       "0  0.952197  0.763956 -0.256334    ...    -1.100763 -0.793116  0.914529\n",
       "1 -1.915313 -0.092738  0.072199    ...     0.908461 -0.793116  0.914529\n",
       "2 -1.474158 -0.092738 -0.816773    ...     0.908461 -0.793116  0.914529\n",
       "3  0.180175 -0.663867 -0.198357    ...     0.908461 -0.793116  0.914529\n",
       "4  0.290464 -0.663867  2.082050    ...     0.908461 -0.793116  0.914529\n",
       "\n",
       "[5 rows x 20 columns]"
      ]
     },
     "execution_count": 17,
     "metadata": {},
     "output_type": "execute_result"
    }
   ],
   "source": [
    "df = pd.read_csv(\"../input/heart.csv\")\n",
    "df_dum=pd.get_dummies(df,columns=[\"sex\",\"cp\",\"fbs\",\"restecg\",\"exang\",\"slope\",\"thal\",\"target\"],drop_first=True)\n",
    "df_dum.describe()\n",
    "\n",
    "heart_scale = df_dum\n",
    "scaler = preprocessing.StandardScaler()\n",
    "columns =df_dum.columns\n",
    "heart_scale[columns] = scaler.fit_transform(heart_scale[columns])\n",
    "heart_scale.head()"
   ]
  },
  {
   "cell_type": "code",
   "execution_count": 18,
   "metadata": {
    "execution": {
     "iopub.execute_input": "2023-05-01T09:48:24.918180Z",
     "iopub.status.busy": "2023-05-01T09:48:24.917940Z",
     "iopub.status.idle": "2023-05-01T09:48:26.758254Z",
     "shell.execute_reply": "2023-05-01T09:48:26.757532Z",
     "shell.execute_reply.started": "2023-05-01T09:48:24.918118Z"
    }
   },
   "outputs": [
    {
     "data": {
      "image/png": "[encoded data removed]",
      "text/plain": [
       "<Figure size 1800x720 with 1 Axes>"
      ]
     },
     "metadata": {},
     "output_type": "display_data"
    }
   ],
   "source": [
    "#Dendograma\n",
    "\n",
    "dendograma = linkage(heart_scale.loc[:,[\"thalach\",\"cp_1\",\"cp_2\",\"cp_3\",\"target_1\",\"slope_1\",\"slope_2\"]], 'complete', metric='euclidean')\n",
    "fig = plt.figure(figsize=(25, 10))\n",
    "dn = dendrogram(dendograma)\n",
    "plt.show()"
   ]
  }
 ],
 "metadata": {
  "kernelspec": {
   "display_name": "Python 3 (ipykernel)",
   "language": "python",
   "name": "python3"
  },
  "language_info": {
   "codemirror_mode": {
    "name": "ipython",
    "version": 3
   },
   "file_extension": ".py",
   "mimetype": "text/x-python",
   "name": "python",
   "nbconvert_exporter": "python",
   "pygments_lexer": "ipython3",
   "version": "3.9.13"
  }
 },
 "nbformat": 4,
 "nbformat_minor": 4
}
